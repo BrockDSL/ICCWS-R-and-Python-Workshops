{
  "nbformat": 4,
  "nbformat_minor": 0,
  "metadata": {
    "colab": {
      "name": "RWineAnalysis.ipynb",
      "provenance": [],
      "collapsed_sections": []
    },
    "kernelspec": {
      "name": "ir",
      "display_name": "R"
    },
    "language_info": {
      "name": "R"
    }
  },
  "cells": [
    {
      "cell_type": "markdown",
      "source": [
        "# R Demo for ICCWS\n",
        "\n",
        "Welcome to the demo notebook for R.  Here you will find a couple quick examples of what R is capable of.\n",
        "\n",
        "\n",
        "You can try out the R code in the cells below by clicking on the play button in the top left of the cells.\n",
        "\n",
        "The graphing example in this notebook uses the Red Wine Quality open dataset which can be found at https://archive.ics.uci.edu/ml/datasets/wine+quality\n",
        "\n",
        "\n",
        "\n"
      ],
      "metadata": {
        "id": "G_UAlooZBW_E"
      }
    },
    {
      "cell_type": "markdown",
      "source": [
        "# Math\n",
        "\n",
        "R is a language that was originally designed for statistical analysis and as such it has a variety of built in math functions.  The great thing about R is that the base language is one of the easiest to learn, making it a great beginner language.  \n",
        "\n",
        "Aside from it being case sensitive, it is a very forgiving language as it doesn't care about spaces and indents and it also has a very robust error system to help you troubleshoot any issues.\n",
        "\n",
        "One of the simplest but most useful functions worth knowing in R is the **summary()** function which performs a variety of mathematical functions on the data you give it and outputs the results.\n",
        "\n",
        "The code below runs the summary function on a column from the dataset.  Try changing the column number in the last line of code to see summaries of different columns.\n",
        "\n",
        "1 - fixed acidity  \n",
        "2 - volatile acidity  \n",
        "3 - citric acid  \n",
        "4 - residual sugar  \n",
        "5 - chlorides  \n",
        "6 - free sulfur dioxide  \n",
        "7 - total sulfur dioxide  \n",
        "8 - density  \n",
        "9 - pH  \n",
        "10 - sulphates  \n",
        "11 - alcohol  \n",
        "12 - quality  "
      ],
      "metadata": {
        "id": "B5rD7MKSG1TA"
      }
    },
    {
      "cell_type": "code",
      "source": [
        "# This code imports our dataset and puts into the variable called dat\n",
        "dat <- read.csv(\"https://github.com/BrockDSL/ICCWS-R-and-Python-Workshops/raw/master/winequality-red.csv\")\n",
        "\n",
        "\n",
        "# This code ensures that the dataset is in the form of a dataframe which makes it easier to work with\n",
        "dat <- data.frame(dat)\n",
        "\n",
        "\n",
        "# This code runs the summary function on a specified column\n",
        "summary(dat[,12])"
      ],
      "metadata": {
        "id": "zZOKS_kQIQVD"
      },
      "execution_count": null,
      "outputs": []
    },
    {
      "cell_type": "markdown",
      "source": [
        "# Visualizations\n",
        "\n",
        "R has great built in functions like **plot()**, **pie()**, and **barplot()** that can make quick visualizations from data.  Below is an example of a scatterplot using the built in visualization functions."
      ],
      "metadata": {
        "id": "wBDha0bhJgh4"
      }
    },
    {
      "cell_type": "code",
      "execution_count": null,
      "metadata": {
        "id": "AuxzdqpElELE"
      },
      "outputs": [],
      "source": [
        "x <- dat[,12]\n",
        "y <- dat[,11]\n",
        "\n",
        "plot(x,y, main = \"Alcohol VS Wine Quality\", xlab = \"Quality\", ylab = \"Alcohol\")"
      ]
    },
    {
      "cell_type": "markdown",
      "source": [
        "## ggplot2\n",
        "\n",
        "On top of the great built in functions, there is a package called ggplot2 that can greatly enhance the flexibility of visualizations in R with just a small bump in difficulty.\n",
        "\n",
        "Before a new package can be used in R it needs to be installed and added to your library.\n",
        "\n",
        "Run the cell below to set up ggplot2 in this notebook."
      ],
      "metadata": {
        "id": "RnKvLXz7PPLY"
      }
    },
    {
      "cell_type": "code",
      "source": [
        "install.packages(\"ggplot2\")\n",
        "library(ggplot2)"
      ],
      "metadata": {
        "id": "UaY4drX_Pfh9"
      },
      "execution_count": null,
      "outputs": []
    },
    {
      "cell_type": "markdown",
      "source": [
        "Now that ggplot2 is installed you are now able to use all of the functions that come with that package.  \n",
        "\n",
        "Run the cell below to see the same visualization as before but made in ggplot2."
      ],
      "metadata": {
        "id": "27J-f3N-PiU_"
      }
    },
    {
      "cell_type": "code",
      "source": [
        "ggplot(dat, aes(x=dat[,12], y=dat[,11])) + geom_point() + ggtitle(\"Alcohol VS Wine Quality\") +\n",
        "  xlab(\"Quality\") + ylab(\"Alcohol\")"
      ],
      "metadata": {
        "id": "oJsByCpXM8dm"
      },
      "execution_count": null,
      "outputs": []
    },
    {
      "cell_type": "markdown",
      "source": [
        "# Dataset citation\n",
        "\n",
        "P. Cortez, A. Cerdeira, F. Almeida, T. Matos and J. Reis.\n",
        "Modeling wine preferences by data mining from physicochemical properties. In Decision Support Systems, Elsevier, 47(4):547-553, 2009."
      ],
      "metadata": {
        "id": "zhM2Uh4EQTWS"
      }
    }
  ]
}