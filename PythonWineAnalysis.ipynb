{
  "nbformat": 4,
  "nbformat_minor": 0,
  "metadata": {
    "colab": {
      "name": "PythonWineAnalysis.ipynb",
      "provenance": [],
      "collapsed_sections": []
    },
    "kernelspec": {
      "name": "python3",
      "display_name": "Python 3"
    },
    "language_info": {
      "name": "python"
    }
  },
  "cells": [
    {
      "cell_type": "markdown",
      "source": [
        "# Python Demo for ICCWS\n",
        "\n",
        "Welcome to the demo notebook for Python.  Here you will find a couple quick examples of what Python is capable of.\n",
        "\n",
        "\n",
        "You can try out the Python code in the cells below by clicking on the play button in the top left of the cells.\n",
        "\n",
        "The graphing example in this notebook uses the Red Wine Quality open dataset which can be found at https://archive.ics.uci.edu/ml/datasets/wine+quality\n",
        "\n",
        "\n",
        "\n"
      ],
      "metadata": {
        "id": "Pce1uf7S6xuk"
      }
    },
    {
      "cell_type": "markdown",
      "source": [
        "# Interactivity\n",
        "\n",
        "One of the fun aspects of Python that makes it great for creating small, flexible programs is how easily it can take user input."
      ],
      "metadata": {
        "id": "pyRbHOm193IW"
      }
    },
    {
      "cell_type": "code",
      "source": [
        "print('Welcome to the notebook! Please enter your name below.')\n",
        "z=input()\n",
        "print('Hello '+z + '!')"
      ],
      "metadata": {
        "id": "8izDDF-A85gP"
      },
      "execution_count": null,
      "outputs": []
    },
    {
      "cell_type": "markdown",
      "source": [
        "# Visualizations\n",
        "\n",
        "If you need to make quick visualizations to look at your data, there are great packages like **pandas** that not only help format your data better for processing but can also make building simple visualizations as easy as a single line of code.\n",
        "\n",
        "If you combine what we learned in the cell above about inputs, we can get an even more flexible visualization."
      ],
      "metadata": {
        "id": "L0g-3RYS-REu"
      }
    },
    {
      "cell_type": "code",
      "source": [
        "import pandas as pd\n",
        "\n",
        "df = pd.read_csv('winequality-red.csv')\n",
        "\n",
        "print(\"Copy and paste the name of a column to plot against the 'quality' column\")\n",
        "print(\"fixed_acidity  volatile_acidity  citric_acid  residual_sugar  chlorides  free_sulfur_dioxide  total_sulfur_dioxide  density    pH   sulphates    alcohol\")\n",
        " \n",
        "\n",
        "df.plot(x='quality', y=input(), style='o')"
      ],
      "metadata": {
        "id": "mVY92XcEzvfB"
      },
      "execution_count": null,
      "outputs": []
    },
    {
      "cell_type": "markdown",
      "source": [
        "# Dataset citation\n",
        "\n",
        "P. Cortez, A. Cerdeira, F. Almeida, T. Matos and J. Reis.\n",
        "Modeling wine preferences by data mining from physicochemical properties. In Decision Support Systems, Elsevier, 47(4):547-553, 2009."
      ],
      "metadata": {
        "id": "_QJBhXS08dPZ"
      }
    }
  ]
}